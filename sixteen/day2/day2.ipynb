{
 "cells": [
  {
   "cell_type": "code",
   "execution_count": 58,
   "metadata": {
    "collapsed": false
   },
   "outputs": [
    {
     "name": "stdout",
     "output_type": "stream",
     "text": [
      "1\n",
      "2\n",
      "5\n",
      "7\n",
      "8\n"
     ]
    }
   ],
   "source": [
    "import csv\n",
    "\n",
    "data_list = []\n",
    "with open(\"day2.csv\", \"r\") as infile:\n",
    "    data = list(csv.reader(infile))\n",
    "    for row in data:\n",
    "         data_list.append(row[0])\n",
    "\n",
    "keypad = 5\n",
    "            \n",
    "for i in data_list:\n",
    "    for let in i:\n",
    "        if let == \"R\" and keypad not in [3,6,9]:\n",
    "            keypad += 1\n",
    "        elif let == \"L\" and keypad not in [1,4,7]:\n",
    "            keypad -= 1\n",
    "        elif let == \"U\" and keypad not in [1,2,3]:\n",
    "            keypad -= 3\n",
    "        elif let == \"D\" and keypad not in [7,8,9]:\n",
    "            keypad += 3  \n",
    "    print keypad\n"
   ]
  },
  {
   "cell_type": "code",
   "execution_count": null,
   "metadata": {
    "collapsed": true
   },
   "outputs": [],
   "source": []
  }
 ],
 "metadata": {
  "kernelspec": {
   "display_name": "Python 2",
   "language": "python",
   "name": "python2"
  },
  "language_info": {
   "codemirror_mode": {
    "name": "ipython",
    "version": 2
   },
   "file_extension": ".py",
   "mimetype": "text/x-python",
   "name": "python",
   "nbconvert_exporter": "python",
   "pygments_lexer": "ipython2",
   "version": "2.7.13"
  }
 },
 "nbformat": 4,
 "nbformat_minor": 2
}
