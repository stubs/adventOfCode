{
 "cells": [
  {
   "cell_type": "code",
   "execution_count": 33,
   "metadata": {
    "collapsed": false,
    "deletable": true,
    "editable": true
   },
   "outputs": [],
   "source": [
    "import csv\n",
    "\n",
    "tri_data = []\n",
    "\n",
    "with open('day3.csv', 'r') as infile:\n",
    "    data = csv.reader(infile)\n",
    "    for row in data:\n",
    "        tri_data.append(row[0].split())"
   ]
  },
  {
   "cell_type": "code",
   "execution_count": 32,
   "metadata": {
    "collapsed": false,
    "deletable": true,
    "editable": true
   },
   "outputs": [
    {
     "data": {
      "text/plain": [
       "993"
      ]
     },
     "execution_count": 32,
     "metadata": {},
     "output_type": "execute_result"
    }
   ],
   "source": [
    "true_tris = []\n",
    "fake_tris = []\n",
    "\n",
    "for x in tri_data:\n",
    "    for i,v in enumerate(x):\n",
    "        x[i] = int(v)\n",
    "    x = sorted(x)\n",
    "    if x[0] + x[1] <= x[2]:\n",
    "        if x not in fake_tris:\n",
    "            fake_tris.append(x)\n",
    "    else:\n",
    "        if x not in true_tris:\n",
    "            true_tris.append(x)\n",
    "len(true_tris)"
   ]
  }
 ],
 "metadata": {
  "kernelspec": {
   "display_name": "Python 2",
   "language": "python",
   "name": "python2"
  },
  "language_info": {
   "codemirror_mode": {
    "name": "ipython",
    "version": 2
   },
   "file_extension": ".py",
   "mimetype": "text/x-python",
   "name": "python",
   "nbconvert_exporter": "python",
   "pygments_lexer": "ipython2",
   "version": "2.7.13"
  }
 },
 "nbformat": 4,
 "nbformat_minor": 2
}
